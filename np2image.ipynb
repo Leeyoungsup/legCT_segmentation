{
 "cells": [
  {
   "cell_type": "code",
   "execution_count": null,
   "metadata": {},
   "outputs": [],
   "source": [
    "import numpy as np\n",
    "from tqdm import tqdm\n",
    "from PIL import Image\n",
    "import os\n",
    "import cv2"
   ]
  },
  {
   "cell_type": "code",
   "execution_count": null,
   "metadata": {},
   "outputs": [],
   "source": [
    "for i in range(5):\n",
    "    image1=np.load('../../data/cv'+str(i)+'_ori.npy')\n",
    "    mask1=np.load('../../data/cv'+str(i)+'_mask.npy')\n",
    "    filename=np.load('../../data/cv'+str(i)+'_name.npy')\n",
    "    image1=image1.astype(np.uint8)\n",
    "    mask1=(mask1*255).astype(np.uint8)\n",
    "    for j in tqdm(range(len(image1))):\n",
    "        Image.fromarray(cv2.cvtColor(image1[j], cv2.COLOR_GRAY2RGB)).save('../../data/internal/ori/data'+str(i+1)+'/'+filename[j]+'.png')\n",
    "        for k in range(4):\n",
    "            Image.fromarray(cv2.cvtColor(mask1[j,:,:,k], cv2.COLOR_GRAY2RGB)).save('../../data/internal/mask/data'+str(i+1)+'/class'+str(k)+'/'+filename[j]+'.png')"
   ]
  },
  {
   "cell_type": "code",
   "execution_count": null,
   "metadata": {},
   "outputs": [],
   "source": [
    "\n",
    "image1=np.load('../../data/external/or_test_new.npy')\n",
    "mask1=np.load('../../data/external/mask_test_new.npy')\n",
    "image1=image1.astype(np.uint8)\n",
    "mask1=(mask1*255).astype(np.uint8)\n",
    "for j in tqdm(range(len(image1))):\n",
    "    Image.fromarray(cv2.cvtColor(image1[j], cv2.COLOR_GRAY2RGB)).save('../../data/external/ori/'+str(j)+'.png')\n",
    "    for k in range(4):\n",
    "        Image.fromarray(cv2.cvtColor(mask1[j,:,:,k], cv2.COLOR_GRAY2RGB)).save('../../data/external/mask/class'+str(k)+'/'+str(j)+'.png')"
   ]
  }
 ],
 "metadata": {
  "kernelspec": {
   "display_name": "LeeYS",
   "language": "python",
   "name": "python3"
  },
  "language_info": {
   "codemirror_mode": {
    "name": "ipython",
    "version": 3
   },
   "file_extension": ".py",
   "mimetype": "text/x-python",
   "name": "python",
   "nbconvert_exporter": "python",
   "pygments_lexer": "ipython3",
   "version": "3.9.0"
  }
 },
 "nbformat": 4,
 "nbformat_minor": 2
}
